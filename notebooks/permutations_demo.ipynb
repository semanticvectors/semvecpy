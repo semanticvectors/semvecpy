{
 "cells": [
  {
   "cell_type": "markdown",
   "metadata": {},
   "source": [
    "Permutations Notebook"
   ]
  },
  {
   "cell_type": "markdown",
   "metadata": {},
   "source": []
  },
  {
   "cell_type": "code",
   "execution_count": null,
   "metadata": {
    "collapsed": true
   },
   "outputs": [],
   "source": [
    "import permutations as p\n",
    "\n",
    "vector1 = p.get_random_vector(p.DIMENSION, p.ENTRIES)\n",
    "p.normalize(vector1)\n",
    "vector2 = p.get_random_vector(p.DIMENSION, p.ENTRIES)\n",
    "p.normalize(vector2)\n",
    "print(\"Similarity before sorting:\", sum(vector1 * vector2))\n",
    "perm_vector1 = p.permute_vector(p.get_sort_permutation(vector1), vector1)\n",
    "perm_vector2 = p.permute_vector(p.get_sort_permutation(vector2), vector2)\n",
    "print(\"Similarity after sorting:\", sum(perm_vector1 * perm_vector2))\n",
    "\n",
    "\n"
   ]
  }
 ],
 "metadata": {
  "kernelspec": {
   "display_name": "Python 2",
   "language": "python",
   "name": "python2"
  },
  "language_info": {
   "codemirror_mode": {
    "name": "ipython",
    "version": 2
   },
   "file_extension": ".py",
   "mimetype": "text/x-python",
   "name": "python",
   "nbconvert_exporter": "python",
   "pygments_lexer": "ipython2",
   "version": "2.7.6"
  }
 },
 "nbformat": 4,
 "nbformat_minor": 0
}
